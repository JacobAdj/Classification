{
 "cells": [
  {
   "cell_type": "code",
   "execution_count": 3,
   "id": "daa553cb",
   "metadata": {},
   "outputs": [
    {
     "name": "stdout",
     "output_type": "stream",
     "text": [
      "     sepal length (cm)  sepal width (cm)  petal length (cm)  petal width (cm)\n",
      "22                 4.6               3.6                1.0               0.2\n",
      "15                 5.7               4.4                1.5               0.4\n",
      "65                 6.7               3.1                4.4               1.4\n",
      "11                 4.8               3.4                1.6               0.2\n",
      "42                 4.4               3.2                1.3               0.2\n",
      "..                 ...               ...                ...               ...\n",
      "71                 6.1               2.8                4.0               1.3\n",
      "106                4.9               2.5                4.5               1.7\n",
      "14                 5.8               4.0                1.2               0.2\n",
      "92                 5.8               2.6                4.0               1.2\n",
      "102                7.1               3.0                5.9               2.1\n",
      "\n",
      "[120 rows x 4 columns]\n",
      "22     0\n",
      "15     0\n",
      "65     1\n",
      "11     0\n",
      "42     0\n",
      "      ..\n",
      "71     1\n",
      "106    2\n",
      "14     0\n",
      "92     1\n",
      "102    2\n",
      "Length: 120, dtype: int64\n",
      "['setosa' 'versicolor' 'virginica']\n"
     ]
    }
   ],
   "source": [
    "from sklearn.datasets import load_iris\n",
    "from sklearn.model_selection import train_test_split\n",
    "import pandas as pd\n",
    "\n",
    "# Load and split the dataset\n",
    "iris = load_iris()\n",
    "X = pd.DataFrame(data=iris.data, columns=iris.feature_names)\n",
    "y = pd.Series(iris.target)\n",
    "\n",
    "X_train, X_test, y_train, y_test = train_test_split(X, y, test_size=0.2, random_state=42)\n",
    "\n",
    "print(X_train)\n",
    "print(y_train)\n",
    "print(iris.target_names)"
   ]
  },
  {
   "cell_type": "code",
   "execution_count": 8,
   "id": "f01923aa",
   "metadata": {},
   "outputs": [
    {
     "name": "stdout",
     "output_type": "stream",
     "text": [
      "     sepal length (cm)  sepal width (cm)  petal length (cm)  petal width (cm)\n",
      "73                 6.1               2.8                4.7               1.2\n",
      "18                 5.7               3.8                1.7               0.3\n",
      "118                7.7               2.6                6.9               2.3\n",
      "78                 6.0               2.9                4.5               1.5\n",
      "76                 6.8               2.8                4.8               1.4\n",
      "31                 5.4               3.4                1.5               0.4\n",
      "64                 5.6               2.9                3.6               1.3\n",
      "141                6.9               3.1                5.1               2.3\n",
      "68                 6.2               2.2                4.5               1.5\n",
      "82                 5.8               2.7                3.9               1.2\n",
      "110                6.5               3.2                5.1               2.0\n",
      "12                 4.8               3.0                1.4               0.1\n",
      "36                 5.5               3.5                1.3               0.2\n",
      "9                  4.9               3.1                1.5               0.1\n",
      "19                 5.1               3.8                1.5               0.3\n",
      "56                 6.3               3.3                4.7               1.6\n",
      "104                6.5               3.0                5.8               2.2\n",
      "69                 5.6               2.5                3.9               1.1\n",
      "55                 5.7               2.8                4.5               1.3\n",
      "132                6.4               2.8                5.6               2.2\n",
      "29                 4.7               3.2                1.6               0.2\n",
      "127                6.1               3.0                4.9               1.8\n",
      "26                 5.0               3.4                1.6               0.4\n",
      "128                6.4               2.8                5.6               2.1\n",
      "131                7.9               3.8                6.4               2.0\n",
      "145                6.7               3.0                5.2               2.3\n",
      "108                6.7               2.5                5.8               1.8\n",
      "143                6.8               3.2                5.9               2.3\n",
      "45                 4.8               3.0                1.4               0.3\n",
      "30                 4.8               3.1                1.6               0.2\n",
      "Accuracy: 1.000\n",
      "Model saved successfully!\n"
     ]
    },
    {
     "name": "stderr",
     "output_type": "stream",
     "text": [
      "c:\\bin\\Python311\\Lib\\site-packages\\sklearn\\linear_model\\_logistic.py:465: ConvergenceWarning: lbfgs failed to converge (status=1):\n",
      "STOP: TOTAL NO. OF ITERATIONS REACHED LIMIT.\n",
      "\n",
      "Increase the number of iterations (max_iter) or scale the data as shown in:\n",
      "    https://scikit-learn.org/stable/modules/preprocessing.html\n",
      "Please also refer to the documentation for alternative solver options:\n",
      "    https://scikit-learn.org/stable/modules/linear_model.html#logistic-regression\n",
      "  n_iter_i = _check_optimize_result(\n"
     ]
    }
   ],
   "source": [
    "from sklearn.linear_model import LogisticRegression\n",
    "from sklearn.metrics import accuracy_score\n",
    "\n",
    "import joblib\n",
    "\n",
    "# Train the model\n",
    "model = LogisticRegression(max_iter=10)\n",
    "model.fit(X_train, y_train)\n",
    "\n",
    "# Evaluate the model\n",
    "y_pred = model.predict(X_test)\n",
    "\n",
    "print(X_test)\n",
    "\n",
    "print(f\"Accuracy: {accuracy_score(y_test, y_pred):.3f}\")\n",
    "\n",
    "# Save the model\n",
    "joblib.dump(model, \"./pretrainedmodels/logistic_regression_model10.pkl\")\n",
    "print(\"Model saved successfully!\")\n"
   ]
  },
  {
   "cell_type": "code",
   "execution_count": 6,
   "id": "0d514830",
   "metadata": {},
   "outputs": [
    {
     "name": "stderr",
     "output_type": "stream",
     "text": [
      "2025/04/30 09:13:34 WARNING mlflow.models.model: Model logged without a signature and input example. Please set `input_example` parameter when logging the model to auto infer the model signature.\n"
     ]
    }
   ],
   "source": [
    "import mlflow\n",
    "import mlflow.sklearn\n",
    "\n",
    "# Start an MLflow run\n",
    "with mlflow.start_run(run_name=\"logistic_regression\") as run:\n",
    "    # Log parameters and metrics\n",
    "    mlflow.log_param(\"max_iter\", 1000)\n",
    "    mlflow.log_metric(\"accuracy\", accuracy_score(y_test, y_pred))\n",
    "\n",
    "    # Log the model\n",
    "    mlflow.sklearn.log_model(model, \"iris_model\")"
   ]
  }
 ],
 "metadata": {
  "kernelspec": {
   "display_name": "Python 3",
   "language": "python",
   "name": "python3"
  },
  "language_info": {
   "codemirror_mode": {
    "name": "ipython",
    "version": 3
   },
   "file_extension": ".py",
   "mimetype": "text/x-python",
   "name": "python",
   "nbconvert_exporter": "python",
   "pygments_lexer": "ipython3",
   "version": "3.11.9"
  }
 },
 "nbformat": 4,
 "nbformat_minor": 5
}
